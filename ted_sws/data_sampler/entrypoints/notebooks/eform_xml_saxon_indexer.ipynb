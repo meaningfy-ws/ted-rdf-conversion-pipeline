{
 "cells": [
  {
   "cell_type": "code",
   "outputs": [],
   "source": [
    "from ted_sws.notice_fetcher.adapters.ted_api import TedAPIAdapter, TedRequestAPI\n",
    "\n"
   ],
   "metadata": {
    "collapsed": false,
    "ExecuteTime": {
     "end_time": "2024-02-23T18:59:38.621562Z",
     "start_time": "2024-02-23T18:59:38.053490Z"
    }
   },
   "id": "dda6b7c4ceddae43",
   "execution_count": 1
  },
  {
   "cell_type": "code",
   "outputs": [],
   "source": [
    "date_wildcard = \"20240223*\"\n",
    "\n",
    "query = f\"\"\" TD NOT IN (C E G I D P M Q O R 0 1 2 3 4 5 6 7 8 9 B S Y V F A H J K) AND \n",
    "        notice-subtype IN (10, 11, 12, 13, 14, 15, 16, 17, 18, 19, 20, 21, 22, 23, 24) AND FT~\"eforms-sdk-\"  AND\n",
    "        PD=20240223*\n",
    "        \"\"\"\n",
    "\n",
    "eforms_query = {\"query\" : query}\n",
    "\n",
    "ted_api_adapter = TedAPIAdapter(TedRequestAPI())"
   ],
   "metadata": {
    "collapsed": false,
    "ExecuteTime": {
     "end_time": "2024-02-26T19:14:28.950233Z",
     "start_time": "2024-02-26T19:14:28.946442Z"
    }
   },
   "id": "2b65da8994567c48",
   "execution_count": 27
  },
  {
   "cell_type": "code",
   "outputs": [],
   "source": [
    "documents_generator = ted_api_adapter.get_generator_by_query(query=eforms_query, load_content=None)"
   ],
   "metadata": {
    "collapsed": false,
    "ExecuteTime": {
     "end_time": "2024-02-26T19:14:30.558789Z",
     "start_time": "2024-02-26T19:14:30.555013Z"
    }
   },
   "id": "e4823d454454f2c5",
   "execution_count": 28
  },
  {
   "cell_type": "code",
   "outputs": [],
   "source": [
    "document = next(documents_generator)"
   ],
   "metadata": {
    "collapsed": false,
    "ExecuteTime": {
     "end_time": "2024-02-26T19:14:37.685403Z",
     "start_time": "2024-02-26T19:14:32.157983Z"
    }
   },
   "id": "58ccdf5539bf3ee3",
   "execution_count": 29
  },
  {
   "cell_type": "code",
   "outputs": [
    {
     "data": {
      "text/plain": "{'PD': '2024-02-23T00:00:00Z',\n 'publication-number': '112393-2024',\n 'ND': '112393-2024',\n 'links': {'xml': {'MUL': 'https://ted.europa.eu/en/notice/112393-2024/xml'},\n  'pdf': {'BUL': 'https://ted.europa.eu/bg/notice/112393-2024/pdf',\n   'SPA': 'https://ted.europa.eu/es/notice/112393-2024/pdf',\n   'CES': 'https://ted.europa.eu/cs/notice/112393-2024/pdf',\n   'DAN': 'https://ted.europa.eu/da/notice/112393-2024/pdf',\n   'DEU': 'https://ted.europa.eu/de/notice/112393-2024/pdf',\n   'EST': 'https://ted.europa.eu/et/notice/112393-2024/pdf',\n   'ELL': 'https://ted.europa.eu/el/notice/112393-2024/pdf',\n   'ENG': 'https://ted.europa.eu/en/notice/112393-2024/pdf',\n   'FRA': 'https://ted.europa.eu/fr/notice/112393-2024/pdf',\n   'GLE': 'https://ted.europa.eu/ga/notice/112393-2024/pdf',\n   'HRV': 'https://ted.europa.eu/hr/notice/112393-2024/pdf',\n   'ITA': 'https://ted.europa.eu/it/notice/112393-2024/pdf',\n   'LAV': 'https://ted.europa.eu/lv/notice/112393-2024/pdf',\n   'LIT': 'https://ted.europa.eu/lt/notice/112393-2024/pdf',\n   'HUN': 'https://ted.europa.eu/hu/notice/112393-2024/pdf',\n   'MLT': 'https://ted.europa.eu/mt/notice/112393-2024/pdf',\n   'NLD': 'https://ted.europa.eu/nl/notice/112393-2024/pdf',\n   'POL': 'https://ted.europa.eu/pl/notice/112393-2024/pdf',\n   'POR': 'https://ted.europa.eu/pt/notice/112393-2024/pdf',\n   'RON': 'https://ted.europa.eu/ro/notice/112393-2024/pdf',\n   'SLK': 'https://ted.europa.eu/sk/notice/112393-2024/pdf',\n   'SLV': 'https://ted.europa.eu/sl/notice/112393-2024/pdf',\n   'FIN': 'https://ted.europa.eu/fi/notice/112393-2024/pdf',\n   'SWE': 'https://ted.europa.eu/sv/notice/112393-2024/pdf'},\n  'pdfs': {'ELL': 'https://ted.europa.eu/el/notice/112393-2024/pdfs'},\n  'html': {'BUL': 'https://ted.europa.eu/bg/notice/-/detail/112393-2024',\n   'SPA': 'https://ted.europa.eu/es/notice/-/detail/112393-2024',\n   'CES': 'https://ted.europa.eu/cs/notice/-/detail/112393-2024',\n   'DAN': 'https://ted.europa.eu/da/notice/-/detail/112393-2024',\n   'DEU': 'https://ted.europa.eu/de/notice/-/detail/112393-2024',\n   'EST': 'https://ted.europa.eu/et/notice/-/detail/112393-2024',\n   'ELL': 'https://ted.europa.eu/el/notice/-/detail/112393-2024',\n   'ENG': 'https://ted.europa.eu/en/notice/-/detail/112393-2024',\n   'FRA': 'https://ted.europa.eu/fr/notice/-/detail/112393-2024',\n   'GLE': 'https://ted.europa.eu/ga/notice/-/detail/112393-2024',\n   'HRV': 'https://ted.europa.eu/hr/notice/-/detail/112393-2024',\n   'ITA': 'https://ted.europa.eu/it/notice/-/detail/112393-2024',\n   'LAV': 'https://ted.europa.eu/lv/notice/-/detail/112393-2024',\n   'LIT': 'https://ted.europa.eu/lt/notice/-/detail/112393-2024',\n   'HUN': 'https://ted.europa.eu/hu/notice/-/detail/112393-2024',\n   'MLT': 'https://ted.europa.eu/mt/notice/-/detail/112393-2024',\n   'NLD': 'https://ted.europa.eu/nl/notice/-/detail/112393-2024',\n   'POL': 'https://ted.europa.eu/pl/notice/-/detail/112393-2024',\n   'POR': 'https://ted.europa.eu/pt/notice/-/detail/112393-2024',\n   'RON': 'https://ted.europa.eu/ro/notice/-/detail/112393-2024',\n   'SLK': 'https://ted.europa.eu/sk/notice/-/detail/112393-2024',\n   'SLV': 'https://ted.europa.eu/sl/notice/-/detail/112393-2024',\n   'FIN': 'https://ted.europa.eu/fi/notice/-/detail/112393-2024',\n   'SWE': 'https://ted.europa.eu/sv/notice/-/detail/112393-2024'},\n  'htmlDirect': {'BUL': 'https://ted.europa.eu/bg/notice/112393-2024/html',\n   'SPA': 'https://ted.europa.eu/es/notice/112393-2024/html',\n   'CES': 'https://ted.europa.eu/cs/notice/112393-2024/html',\n   'DAN': 'https://ted.europa.eu/da/notice/112393-2024/html',\n   'DEU': 'https://ted.europa.eu/de/notice/112393-2024/html',\n   'EST': 'https://ted.europa.eu/et/notice/112393-2024/html',\n   'ELL': 'https://ted.europa.eu/el/notice/112393-2024/html',\n   'ENG': 'https://ted.europa.eu/en/notice/112393-2024/html',\n   'FRA': 'https://ted.europa.eu/fr/notice/112393-2024/html',\n   'GLE': 'https://ted.europa.eu/ga/notice/112393-2024/html',\n   'HRV': 'https://ted.europa.eu/hr/notice/112393-2024/html',\n   'ITA': 'https://ted.europa.eu/it/notice/112393-2024/html',\n   'LAV': 'https://ted.europa.eu/lv/notice/112393-2024/html',\n   'LIT': 'https://ted.europa.eu/lt/notice/112393-2024/html',\n   'HUN': 'https://ted.europa.eu/hu/notice/112393-2024/html',\n   'MLT': 'https://ted.europa.eu/mt/notice/112393-2024/html',\n   'NLD': 'https://ted.europa.eu/nl/notice/112393-2024/html',\n   'POL': 'https://ted.europa.eu/pl/notice/112393-2024/html',\n   'POR': 'https://ted.europa.eu/pt/notice/112393-2024/html',\n   'RON': 'https://ted.europa.eu/ro/notice/112393-2024/html',\n   'SLK': 'https://ted.europa.eu/sk/notice/112393-2024/html',\n   'SLV': 'https://ted.europa.eu/sl/notice/112393-2024/html',\n   'FIN': 'https://ted.europa.eu/fi/notice/112393-2024/html',\n   'SWE': 'https://ted.europa.eu/sv/notice/112393-2024/html'}}}"
     },
     "execution_count": 30,
     "metadata": {},
     "output_type": "execute_result"
    }
   ],
   "source": [
    "document"
   ],
   "metadata": {
    "collapsed": false,
    "ExecuteTime": {
     "end_time": "2024-02-26T19:14:37.696903Z",
     "start_time": "2024-02-26T19:14:37.690174Z"
    }
   },
   "id": "e26fbea0e097342a",
   "execution_count": 30
  },
  {
   "cell_type": "code",
   "outputs": [],
   "source": [
    "from dateutil import rrule\n",
    "from datetime import datetime\n",
    "def generate_wildcards_foreach_day_in_range(start_date: str, end_date: str) -> list:\n",
    "    \"\"\"\n",
    "        Given a date range returns all daily dates in that range\n",
    "    :param start_date:\n",
    "    :param end_date:\n",
    "    :return:\n",
    "    \"\"\"\n",
    "    return [dt.strftime('%Y%m%d*')\n",
    "            for dt in rrule.rrule(rrule.DAILY,\n",
    "                                  dtstart=datetime.strptime(start_date, '%Y%m%d'),\n",
    "                                  until=datetime.strptime(end_date, '%Y%m%d'))]"
   ],
   "metadata": {
    "collapsed": false,
    "ExecuteTime": {
     "end_time": "2024-02-23T19:07:30.688571Z",
     "start_time": "2024-02-23T19:07:30.686751Z"
    }
   },
   "id": "a6bd930a2c0b4862",
   "execution_count": 15
  },
  {
   "cell_type": "code",
   "outputs": [
    {
     "data": {
      "text/plain": "['20231130*',\n '20231201*',\n '20231202*',\n '20231203*',\n '20231204*',\n '20231205*',\n '20231206*',\n '20231207*',\n '20231208*',\n '20231209*',\n '20231210*',\n '20231211*',\n '20231212*',\n '20231213*',\n '20231214*',\n '20231215*',\n '20231216*',\n '20231217*',\n '20231218*',\n '20231219*',\n '20231220*',\n '20231221*',\n '20231222*',\n '20231223*',\n '20231224*',\n '20231225*',\n '20231226*',\n '20231227*',\n '20231228*',\n '20231229*',\n '20231230*',\n '20231231*',\n '20240101*',\n '20240102*',\n '20240103*',\n '20240104*',\n '20240105*']"
     },
     "execution_count": 18,
     "metadata": {},
     "output_type": "execute_result"
    }
   ],
   "source": [
    "generate_wildcards_foreach_day_in_range(start_date=\"20231130\", end_date=\"20240105\")"
   ],
   "metadata": {
    "collapsed": false,
    "ExecuteTime": {
     "end_time": "2024-02-23T19:08:21.108888Z",
     "start_time": "2024-02-23T19:08:21.106249Z"
    }
   },
   "id": "1ade3194dfb8d958",
   "execution_count": 18
  }
 ],
 "metadata": {
  "kernelspec": {
   "display_name": "Python 3",
   "language": "python",
   "name": "python3"
  },
  "language_info": {
   "codemirror_mode": {
    "name": "ipython",
    "version": 2
   },
   "file_extension": ".py",
   "mimetype": "text/x-python",
   "name": "python",
   "nbconvert_exporter": "python",
   "pygments_lexer": "ipython2",
   "version": "2.7.6"
  }
 },
 "nbformat": 4,
 "nbformat_minor": 5
}
